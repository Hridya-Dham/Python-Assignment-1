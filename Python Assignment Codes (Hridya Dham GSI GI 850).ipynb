{
 "cells": [
  {
   "cell_type": "markdown",
   "id": "e78a7b3c",
   "metadata": {},
   "source": [
    "# Q1. Write a Python program that accepts a hyphen-separated sequence of words as input and prints the words in a hyphen-separated sequence after sorting them alphabetically."
   ]
  },
  {
   "cell_type": "code",
   "execution_count": 8,
   "id": "5f7be5bc",
   "metadata": {},
   "outputs": [
    {
     "name": "stdout",
     "output_type": "stream",
     "text": [
      "Enter the a hyphen separated string: green-red-yellow-black-white\n",
      "The hyphen-separated sequence after sorting it is: \n",
      "black-green-red-white-yellow\n"
     ]
    }
   ],
   "source": [
    "str = input(\"Enter the a hyphen separated string: \")\n",
    "lst = list(str.split('-')) #spliting string with a delimiter as '-'\n",
    "\n",
    "lst.sort() #sorting the list\n",
    "ans = '-'.join(ele for ele in lst) #converting back to string from a sorted list\n",
    "print(\"The hyphen-separated sequence after sorting it is: \")\n",
    "print(ans)"
   ]
  },
  {
   "cell_type": "markdown",
   "id": "b109ec6b",
   "metadata": {},
   "source": [
    "# Q2. Write a Python program to access a function inside a function.\n",
    "\n"
   ]
  },
  {
   "cell_type": "code",
   "execution_count": 18,
   "id": "aec08547",
   "metadata": {},
   "outputs": [
    {
     "name": "stdout",
     "output_type": "stream",
     "text": [
      "Hi Hridya your stipend salary is: 15500 \n"
     ]
    }
   ],
   "source": [
    "#Outer Function\n",
    "def name(fname):\n",
    "    \n",
    "    #Inner Function\n",
    "    def salary(sal):\n",
    "        returnS = \"Hi {} your stipend salary is: {} \".format(fname,sal)\n",
    "        return returnS\n",
    "    return salary\n",
    "\n",
    "func = name(\"Hridya\") #Calling the Outer Function \n",
    "print(func(15500)) #Calling the Inner Function with the help of Outer Function"
   ]
  },
  {
   "cell_type": "markdown",
   "id": "07269142",
   "metadata": {},
   "source": [
    "# Q3. Write a Python program to reverse a string."
   ]
  },
  {
   "cell_type": "code",
   "execution_count": 23,
   "id": "2c23c55a",
   "metadata": {},
   "outputs": [
    {
     "name": "stdout",
     "output_type": "stream",
     "text": [
      "Enter a string: 1234abcd\n",
      "The reversed string: \n",
      "dcba4321\n"
     ]
    }
   ],
   "source": [
    "def reverseString(word):\n",
    "    return word[::-1] #slicing from the end to 0-index while moving backwards -1.\n",
    "    \n",
    "word = input(\"Enter a string: \")\n",
    "print(\"The reversed string: \")\n",
    "print(reverseString(word))"
   ]
  },
  {
   "cell_type": "markdown",
   "id": "8ff2d34a",
   "metadata": {},
   "source": [
    "# Q4. Write a Python program to find the first duplicate element in a given array of integers. Return -1 If there are no such elements."
   ]
  },
  {
   "cell_type": "code",
   "execution_count": 38,
   "id": "8f77b15e",
   "metadata": {},
   "outputs": [
    {
     "name": "stdout",
     "output_type": "stream",
     "text": [
      "Enter the size of the list: 5\n",
      "Now the enter the elements: \n",
      "3\n",
      "5\n",
      "4\n",
      "3\n",
      "4\n",
      "The list is: [3, 5, 4, 3, 4]\n",
      "The first repeating element is 3\n"
     ]
    }
   ],
   "source": [
    "def repeatingEle(lst,n):\n",
    "    ele = -1\n",
    "    myDict = {} #creating a Dictionary\n",
    "    \n",
    "    for i in range(n-1,-1,-1): #traversing from end coz we want first repeating element\n",
    "        if lst[i] in myDict.keys():\n",
    "            ele = lst[i]\n",
    "        else:\n",
    "            myDict[lst[i]] = 1\n",
    "    if(ele != -1):\n",
    "        return \"The first repeating element is {}\".format(ele)\n",
    "    else:\n",
    "        return \"There are no repeating elements: {}\".format(ele)\n",
    "    \n",
    "lst = []\n",
    "n = int(input(\"Enter the size of the list: \"))\n",
    "print(\"Now the enter the elements: \")\n",
    "for i in range(n): #inputing elements in list\n",
    "    ele = int(input())\n",
    "    lst.append(ele)\n",
    "print(\"The list is: {}\".format(lst))\n",
    "\n",
    "print(repeatingEle(lst,n)) #calling the function"
   ]
  },
  {
   "cell_type": "markdown",
   "id": "be0234a7",
   "metadata": {},
   "source": [
    "# Q5. Write a Python program to get the number of occurrences of a specified element in an array. "
   ]
  },
  {
   "cell_type": "code",
   "execution_count": 40,
   "id": "22c5362a",
   "metadata": {},
   "outputs": [
    {
     "name": "stdout",
     "output_type": "stream",
     "text": [
      "Enter size of list: 5\n",
      "1\n",
      "4\n",
      "2\n",
      "3\n",
      "4\n",
      "Enter an element from the list: 4\n",
      "The occurences of 4 is: 2\n"
     ]
    }
   ],
   "source": [
    "def occurences(lst,n,ele):\n",
    "    \n",
    "    #base case\n",
    "    if ele not in lst:\n",
    "        return 0;\n",
    "    \n",
    "    myDict = {}\n",
    "    for i in range(n):\n",
    "        if(lst[i] in myDict.keys()):\n",
    "            myDict[lst[i]] += 1;\n",
    "        else:\n",
    "            myDict[lst[i]] = 1;\n",
    "        \n",
    "    return myDict[ele]\n",
    "\n",
    "lst = []\n",
    "n = int(input(\"Enter size of list: \"))\n",
    "for i in range(n):\n",
    "    ele = int(input())\n",
    "    lst.append(ele)\n",
    "\n",
    "ele = int(input(\"Enter an element from the list: \"))\n",
    "print(\"The occurences of {0} is: {1}\".format(ele,occurences(lst,n,ele)))"
   ]
  },
  {
   "cell_type": "markdown",
   "id": "73658266",
   "metadata": {},
   "source": [
    "# Q6. Write a function that computes the volume of a sphere given its radius.\n"
   ]
  },
  {
   "cell_type": "code",
   "execution_count": 7,
   "id": "ee8e4189",
   "metadata": {},
   "outputs": [
    {
     "name": "stdout",
     "output_type": "stream",
     "text": [
      "Enter the value of radius: 4\n",
      "The volume of the sphere with radius 4 is: 268.08\n"
     ]
    }
   ],
   "source": [
    "import math\n",
    "def volume(r):\n",
    "    return (4*math.pi*(r*r*r))/3\n",
    "\n",
    "radius = int(input(\"Enter the value of radius: \"))\n",
    "print(\"The volume of the sphere with radius {0} is: {1:.2f}\".format(radius,volume(radius)))"
   ]
  },
  {
   "cell_type": "markdown",
   "id": "96a2bae7",
   "metadata": {},
   "source": [
    "# Q7. Write a function that checks whether a number is in a given range (Inclusive of high and low). "
   ]
  },
  {
   "cell_type": "code",
   "execution_count": 13,
   "id": "de723698",
   "metadata": {},
   "outputs": [
    {
     "name": "stdout",
     "output_type": "stream",
     "text": [
      "Enter low: 4\n",
      "Enter high: 7\n",
      "Enter a number: 5\n",
      "The given number '5' is in the range 4-7\n"
     ]
    }
   ],
   "source": [
    "def checkRange(low,high,n):\n",
    "    if(n>= low and n<=high):\n",
    "        return \"The given number '{}' is in the range {}-{}\".format(n,low,high)\n",
    "    else:\n",
    "        return \"The given number '{}' is not in the range {}-{}\".format(n,low,high)\n",
    "\n",
    "low = int(input(\"Enter low: \"))\n",
    "high = int(input(\"Enter high: \"))\n",
    "n = int(input(\"Enter a number: \"))\n",
    "print(checkRange(low,high,n))"
   ]
  },
  {
   "cell_type": "markdown",
   "id": "fc2128fd",
   "metadata": {},
   "source": [
    "# Q8. Write a Python function that accepts a string and calculate the number of uppercase letters and lowercase letters."
   ]
  },
  {
   "cell_type": "code",
   "execution_count": 16,
   "id": "da263d23",
   "metadata": {},
   "outputs": [
    {
     "name": "stdout",
     "output_type": "stream",
     "text": [
      "Hello Mr. Rogers, how are you this fine Tuesday?\n",
      "The number of Upppercase letters are: 4\n",
      "The number of Lowercase letters are: 33\n"
     ]
    }
   ],
   "source": [
    "def count(word):\n",
    "    countL = 0\n",
    "    countU = 0\n",
    "    \n",
    "    for ele in word:\n",
    "        if (ele.isupper()):\n",
    "            countU += 1\n",
    "        elif (ele.islower()):\n",
    "            countL += 1\n",
    "    print(\"The number of Upppercase letters are: {}\".format(countU))\n",
    "    print(\"The number of Lowercase letters are: {}\".format(countL))\n",
    "\n",
    "word = input(\"Enter a string: \")\n",
    "count(word)"
   ]
  },
  {
   "cell_type": "markdown",
   "id": "46de1301",
   "metadata": {},
   "source": [
    "# Q9. Write a Python function that takes a list and returns a new list with unique elements of the first list."
   ]
  },
  {
   "cell_type": "code",
   "execution_count": 22,
   "id": "1110ce69",
   "metadata": {},
   "outputs": [
    {
     "name": "stdout",
     "output_type": "stream",
     "text": [
      "Enter the size of the list: 6\n",
      "Enter the elements: \n",
      "1 \n",
      "3\n",
      "6\n",
      "3\n",
      "5\n",
      "5\n",
      "The unique elements of the list are: [1, 3, 6, 5]\n"
     ]
    }
   ],
   "source": [
    "#can be also done using set: set(lst)\n",
    "def uniqueEle(lst,n):\n",
    "    dummy = []\n",
    "    for ele in lst:\n",
    "        if ele not in dummy:\n",
    "            dummy.append(ele)\n",
    "    return dummy\n",
    "\n",
    "lst = []\n",
    "n = int(input(\"Enter the size of the list: \"))\n",
    "print(\"Enter the elements: \")\n",
    "for i in range(n):\n",
    "    ele = int(input())\n",
    "    lst.append(ele)\n",
    "    \n",
    "print(\"The unique elements of the list are: {}\".format(uniqueEle(lst,n)))"
   ]
  },
  {
   "cell_type": "markdown",
   "id": "3592afc5",
   "metadata": {},
   "source": [
    "# Q10. Write a Python function to multiply all the numbers in a list."
   ]
  },
  {
   "cell_type": "code",
   "execution_count": 23,
   "id": "d005f903",
   "metadata": {},
   "outputs": [
    {
     "name": "stdout",
     "output_type": "stream",
     "text": [
      "Enter the size of the list: 4\n",
      "Enter the elements: \n",
      "1\n",
      "2\n",
      "3\n",
      "-4\n",
      "The multiplication result is: -24\n"
     ]
    }
   ],
   "source": [
    "def multiply(lst,n):\n",
    "    #base case\n",
    "    if(n == 0):\n",
    "        return 0\n",
    "    ans = 1\n",
    "    for ele in lst:\n",
    "        ans = ans * ele\n",
    "    return ans\n",
    "lst = []\n",
    "n = int(input(\"Enter the size of the list: \"))\n",
    "print(\"Enter the elements: \")\n",
    "for i in range(n):\n",
    "    ele = int(input())\n",
    "    lst.append(ele)\n",
    "\n",
    "print(\"The multiplication result is: {}\".format(multiply(lst,n)))"
   ]
  },
  {
   "cell_type": "markdown",
   "id": "cb240f47",
   "metadata": {},
   "source": [
    "# Q11. Write a Python function that checks whether a passed string is palindrome or not."
   ]
  },
  {
   "cell_type": "code",
   "execution_count": 40,
   "id": "b78e5b34",
   "metadata": {},
   "outputs": [
    {
     "name": "stdout",
     "output_type": "stream",
     "text": [
      "Enter a word: nurses run\n",
      "The word nurses run is a palindrome\n"
     ]
    }
   ],
   "source": [
    "def palindrome(word):\n",
    "    temp = word[::-1]\n",
    "    temp = temp.replace(\" \",\"\")\n",
    "    newWord = word.replace(\" \",\"\")\n",
    "    \n",
    "    if(temp == newWord):\n",
    "        print(\"The word {} is a palindrome\".format(word))\n",
    "    else:\n",
    "        print(\"The word {} is not a palindrome\".format(word))\n",
    "        \n",
    "word = input(\"Enter a word: \")\n",
    "palindrome(word)"
   ]
  },
  {
   "cell_type": "markdown",
   "id": "25325973",
   "metadata": {},
   "source": [
    "# Q12. Write a Python function to check whether a string is a pangram or not."
   ]
  },
  {
   "cell_type": "code",
   "execution_count": 44,
   "id": "18711e7e",
   "metadata": {},
   "outputs": [
    {
     "name": "stdout",
     "output_type": "stream",
     "text": [
      "Enter a string: My girl wove six dozen plaid jackets before she quit\n",
      "The given string 'My girl wove six dozen plaid jackets before she quit' is a pangram\n"
     ]
    }
   ],
   "source": [
    "def pangram(str):\n",
    "    alphabet = \"abcdefghijklmnopqrstuvwxyz\"\n",
    "    for ele in alphabet:\n",
    "        if ele not in str.lower():\n",
    "            return \"The given string '{}' is not a pangram\".format(str)\n",
    "    print(\"The given string '{}' is a pangram\".format(str))\n",
    "str = input(\"Enter a string: \")\n",
    "pangram(str)\n"
   ]
  },
  {
   "cell_type": "markdown",
   "id": "39a982d7",
   "metadata": {},
   "source": [
    "# Q13. Write a Python program to print the following string in a specific format."
   ]
  },
  {
   "cell_type": "code",
   "execution_count": 61,
   "id": "b4fb7bcb",
   "metadata": {},
   "outputs": [
    {
     "name": "stdout",
     "output_type": "stream",
     "text": [
      "Before formatting: \n",
      "Twinkle, twinkle, little star, How I wonder what you are! Up above the world so high, Like a diamond in the sky. Twinkle, twinkle, little star, How I wonder what you are\n",
      "----------------------------\n",
      "After formatting: \n",
      "Twinkle,\n",
      "twinkle, little star, \n",
      "\tHow I \n",
      "\twonder what you are! \n",
      "\t\tUp above \n",
      "\t\tthe world so high, \n",
      "\t\t Like \n",
      "\t\ta diamond in the sky. \n",
      "Twinkle,\n",
      "twinkle, little star, \n",
      "\tHow I \n",
      "wonder what you are\n"
     ]
    }
   ],
   "source": [
    "print(\"Before formatting: \")\n",
    "print(\"Twinkle, twinkle, little star, How I wonder what you are! Up above the world so high, Like a diamond in the sky. Twinkle, twinkle, little star, How I wonder what you are\")\n",
    "\n",
    "print(\"----------------------------\")\n",
    "\n",
    "print(\"After formatting: \")\n",
    "print(\"\"\"Twinkle,\n",
    "twinkle, little star, \n",
    "\\tHow I \n",
    "\\twonder what you are! \n",
    "\\t\\tUp above \n",
    "\\t\\tthe world so high, \n",
    "\\t\\t Like \n",
    "\\t\\ta diamond in the sky. \n",
    "Twinkle,\n",
    "twinkle, little star, \n",
    "\\tHow I \n",
    "wonder what you are\"\"\")"
   ]
  },
  {
   "cell_type": "markdown",
   "id": "a2d2544e",
   "metadata": {},
   "source": [
    "# Q14. Write a Python program to accept a filename from the user and print the extension of that."
   ]
  },
  {
   "cell_type": "code",
   "execution_count": 68,
   "id": "d30edcd7",
   "metadata": {},
   "outputs": [
    {
     "name": "stdout",
     "output_type": "stream",
     "text": [
      "Enter a file name: hri.dya.txt\n",
      "The file extension is: txt\n"
     ]
    }
   ],
   "source": [
    "filename = input(\"Enter a file name: \")\n",
    "splitter = filename.split(\".\") #split the string wherever there is a '.'\n",
    "print(\"The file extension is: {}\".format(extension[-1]))"
   ]
  },
  {
   "cell_type": "markdown",
   "id": "18686129",
   "metadata": {},
   "source": [
    "# Q15. Write a Python program that accepts an integer (n) and computes the value of n+nn+nnn.\n"
   ]
  },
  {
   "cell_type": "code",
   "execution_count": 74,
   "id": "a681a64d",
   "metadata": {},
   "outputs": [
    {
     "name": "stdout",
     "output_type": "stream",
     "text": [
      "Enter a number: 5\n",
      "The desired output is: 615\n"
     ]
    }
   ],
   "source": [
    "n = int(input(\"Enter a number: \"))\n",
    "res = (n+ ((n*10)+n) + ((n*100)+(n*10)+n))\n",
    "print(\"The desired output is: {}\".format(res))"
   ]
  },
  {
   "cell_type": "markdown",
   "id": "190c9f9e",
   "metadata": {},
   "source": [
    "# Q16. Write a Python program to check whether a specified value is contained in a group of values."
   ]
  },
  {
   "cell_type": "code",
   "execution_count": 79,
   "id": "94654353",
   "metadata": {},
   "outputs": [
    {
     "name": "stdout",
     "output_type": "stream",
     "text": [
      "Enter a value: 3\n",
      "Enter the size of the list: 4\n",
      "Enter the elements of the list: \n",
      "1\n",
      "5\n",
      "8\n",
      "3\n",
      "The value '3' is present in the list: True\n"
     ]
    }
   ],
   "source": [
    "value = int(input(\"Enter a value: \"))\n",
    "lst = []\n",
    "n = int(input(\"Enter the size of the list: \"))\n",
    "print(\"Enter the elements of the list: \")\n",
    "for i in range(n):\n",
    "    ele = int(input())\n",
    "    lst.append(ele)\n",
    "    \n",
    "if value in lst:\n",
    "    print(\"The value '{}' is present in the list: {}\".format(value,True))\n",
    "else:\n",
    "    print(\"The value '{}' is not present in the list: {}\".format(value,False))"
   ]
  },
  {
   "cell_type": "markdown",
   "id": "d40ab1a9",
   "metadata": {},
   "source": [
    "# Q17. Write a Python program to print all even numbers from a given numbers list in the same order and stop the printing if any numbers that come after 237 in the sequence. "
   ]
  },
  {
   "cell_type": "code",
   "execution_count": 84,
   "id": "3fa133de",
   "metadata": {},
   "outputs": [
    {
     "name": "stdout",
     "output_type": "stream",
     "text": [
      "The even numbers from the list are: 386 462 418 344 236 566 978 328 162 758 918 237\n"
     ]
    }
   ],
   "source": [
    "numbers = [386,462, 47, 418, 907, 344, 236, 375, 823, 566, 597, 978, 328, 615, 953, 345, 399, 162, 758, 219, 918, 237, 412, 566, 826, 248, 866, 950, 626, 949, 687,217,815, 67, 104, 58, 512, 24,892, 894, 767, 553, 81, 379, 843, 831, 445, 742, 717,958,743, 527]\n",
    "print(\"The even numbers from the list are: \",end=\"\")\n",
    "for ele in numbers:\n",
    "    if ele == 237:\n",
    "        print(ele)\n",
    "        break #as soon as 237 comes print it then break out of loop\n",
    "    if ele%2 == 0:\n",
    "        print(ele,end=\" \")"
   ]
  },
  {
   "cell_type": "markdown",
   "id": "8f901935",
   "metadata": {},
   "source": [
    "# Q18. Write a Python program that will return true if the two given integer values are equal or their sum or difference is 5."
   ]
  },
  {
   "cell_type": "code",
   "execution_count": 92,
   "id": "7d06cfdf",
   "metadata": {},
   "outputs": [
    {
     "name": "stdout",
     "output_type": "stream",
     "text": [
      "Enter the first number: 2\n",
      "Enter the second number: 7\n",
      "The conditions are satisfied: True\n"
     ]
    }
   ],
   "source": [
    "n1 = int(input(\"Enter the first number: \"))\n",
    "n2 = int(input(\"Enter the second number: \"))\n",
    "\n",
    "if((n1 == n2) or ((n1+n2 == 5) or (abs(n1-n2) == 5))):\n",
    "   print(\"The conditions are satisfied: {}\".format(True))\n",
    "else:\n",
    "   print(\"The conditions are not satisfied: {}\".format(False))"
   ]
  },
  {
   "cell_type": "markdown",
   "id": "08318615",
   "metadata": {},
   "source": [
    "# Q19. Write a Python program to display your details like name, age, address in three different lines.\n"
   ]
  },
  {
   "cell_type": "code",
   "execution_count": 99,
   "id": "f51ad158",
   "metadata": {},
   "outputs": [
    {
     "name": "stdout",
     "output_type": "stream",
     "text": [
      "Enter your name: Hridya Dham\n",
      "Enter your age: 22\n",
      "Enter your address: A1865\n",
      "\n",
      "Your details are: \n",
      "Name: Hridya Dham\n",
      "Age: 22\n",
      "Address: A1865\n"
     ]
    }
   ],
   "source": [
    "def details(name,age,add):\n",
    "    print(\"Name: {}\\nAge: {}\\nAddress: {}\".format(name,age,add))\n",
    "    \n",
    "name = input(\"Enter your name: \")\n",
    "age = int(input(\"Enter your age: \"))\n",
    "add = input(\"Enter your address: \")\n",
    "\n",
    "print(\"\\nYour details are: \")\n",
    "details(name,age,add)"
   ]
  },
  {
   "cell_type": "markdown",
   "id": "75799b63",
   "metadata": {},
   "source": [
    "# Q20. Write a Python program to solve (x + y) * (x + y)."
   ]
  },
  {
   "cell_type": "code",
   "execution_count": 109,
   "id": "dfcb8d54",
   "metadata": {},
   "outputs": [
    {
     "name": "stdout",
     "output_type": "stream",
     "text": [
      "Enter the value of x: 2\n",
      "Enter the value of y: 4\n",
      "(2 + 4) * (2 + 4) = 36\n"
     ]
    }
   ],
   "source": [
    "x = int(input(\"Enter the value of x: \"))\n",
    "y = int(input(\"Enter the value of y: \"))\n",
    "\n",
    "res = (x+y)**2 # can also write as -> (x+y)*(x+y)\n",
    "\n",
    "print(\"({0} + {1}) * ({0} + {1}) = {2}\".format(x,y,res))"
   ]
  },
  {
   "cell_type": "markdown",
   "id": "4b5d1c08",
   "metadata": {},
   "source": [
    "# Q21. Write a Python program to print out a set containing all the colors from color_list_1 which are not present in color_list_2."
   ]
  },
  {
   "cell_type": "code",
   "execution_count": 121,
   "id": "b9ff6da3",
   "metadata": {},
   "outputs": [
    {
     "name": "stdout",
     "output_type": "stream",
     "text": [
      "Enter size of list1: 3\n",
      "Enter elements for set1: \n",
      "White\n",
      "Black\n",
      "Orange\n",
      "Enter size of list2: 2\n",
      "Enter elements for set2: \n",
      "Orange\n",
      "Yellow\n",
      "The Elements in color_list_1 that are not present in color_list_2 are: {'Black', 'White'}\n"
     ]
    }
   ],
   "source": [
    "lst1 = []\n",
    "n1 = int(input(\"Enter size of list1: \"))\n",
    "print(\"Enter elements for set1: \")\n",
    "for i in range(n1):\n",
    "    ele = input()\n",
    "    lst1.append(ele)\n",
    "set1 = set(lst1) #converting to set\n",
    "\n",
    "lst2 = []\n",
    "n2 = int(input(\"Enter size of list2: \"))\n",
    "print(\"Enter elements for set2: \")\n",
    "for i in range(n2):\n",
    "    ele = input()\n",
    "    lst2.append(ele)\n",
    "set2 = set(lst2) #converting to set\n",
    "\n",
    "print(\"The Elements in color_list_1 that are not present in color_list_2 are:\",end=\" \")\n",
    "print(set1.difference(set2)) #difference removes same elements"
   ]
  },
  {
   "cell_type": "code",
   "execution_count": null,
   "id": "feab7ed3",
   "metadata": {},
   "outputs": [],
   "source": []
  }
 ],
 "metadata": {
  "kernelspec": {
   "display_name": "Python 3 (ipykernel)",
   "language": "python",
   "name": "python3"
  },
  "language_info": {
   "codemirror_mode": {
    "name": "ipython",
    "version": 3
   },
   "file_extension": ".py",
   "mimetype": "text/x-python",
   "name": "python",
   "nbconvert_exporter": "python",
   "pygments_lexer": "ipython3",
   "version": "3.9.13"
  }
 },
 "nbformat": 4,
 "nbformat_minor": 5
}
